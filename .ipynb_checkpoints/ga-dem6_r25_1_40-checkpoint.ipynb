{
 "cells": [
  {
   "cell_type": "code",
   "execution_count": 1,
   "id": "9e22ab98",
   "metadata": {},
   "outputs": [],
   "source": [
    "from solution2.func import *\n",
    "from solution2.mfea import *\n",
    "from solution2.evolution import *\n",
    "import json"
   ]
  },
  {
   "cell_type": "markdown",
   "id": "98daea0e",
   "metadata": {},
   "source": [
    "### load config"
   ]
  },
  {
   "cell_type": "code",
   "execution_count": 2,
   "id": "0cc82dca",
   "metadata": {},
   "outputs": [],
   "source": [
    "# \"data/ga-dem10_r25_1_0.json\", \"data/ga-dem6_r25_1_40.json\", \n",
    "# \"data/ga-dem10_r50_1_0.json\", \"data/ga-dem6_r50_1_40.json\"\n",
    "paths = [\"data/ga-dem10_r25_1_0.json\", \"data/ga-dem6_r25_1_40.json\"]\n",
    "\n",
    "pop_configs = []\n",
    "for path in paths:\n",
    "    config = {}\n",
    "    f = open(path)\n",
    "    data = json.load(f)\n",
    "    f.close()\n",
    "\n",
    "    config['n_relay'] = data['num_of_relays']\n",
    "    config['n_sensor'] = data['num_of_sensors']\n",
    "    config['radius'] = data['radius']\n",
    "\n",
    "    relays = data['relays']\n",
    "    sensors = data['sensors']\n",
    "    center = data['center']\n",
    "    radius = data['radius']\n",
    "\n",
    "    list_node = [center] + relays + sensors\n",
    "    list_coordinates = []\n",
    "    for node in list_node:\n",
    "        list_coordinates.append([node['x'], node['y'], node['z']])\n",
    "    list_coordinates = np.array(list_coordinates)\n",
    "    config['list_coordinates'] = list_coordinates\n",
    "    pop_configs.append(config)"
   ]
  },
  {
   "cell_type": "markdown",
   "id": "5b2b3750",
   "metadata": {},
   "source": [
    "### Population"
   ]
  },
  {
   "cell_type": "code",
   "execution_count": 3,
   "id": "7d485fad",
   "metadata": {},
   "outputs": [],
   "source": [
    "# khoi tao population\n",
    "max_n_relays = max(config['n_relay'] for config in pop_configs)\n",
    "max_n_sensors = max(config['n_sensor'] for config in pop_configs)\n",
    "\n",
    "# khoi tao gene dau tien\n",
    "genes_init = np.concatenate([np.zeros(max_n_relays+1), np.random.randint(1, max_n_relays+1, max_n_sensors)])\n",
    "pop = Population(max_n_sensors, max_n_relays, [Individual(genes_init)], pop_configs)\n",
    "pop.random_indivs(500)\n",
    "pop.reset_param()"
   ]
  },
  {
   "cell_type": "code",
   "execution_count": 4,
   "id": "bf9300f4",
   "metadata": {},
   "outputs": [
    {
     "data": {
      "text/plain": [
       "(0.0006340378727726771, 400000000.0)"
      ]
     },
     "execution_count": 4,
     "metadata": {},
     "output_type": "execute_result"
    }
   ],
   "source": [
    "pop.get_fittest()[0].get_cost(), pop.get_fittest()[1].get_cost()"
   ]
  },
  {
   "cell_type": "code",
   "execution_count": null,
   "id": "23557844",
   "metadata": {
    "scrolled": true
   },
   "outputs": [
    {
     "name": "stdout",
     "output_type": "stream",
     "text": [
      "[0.0006340378727726771, 400000000.0]\n",
      "[0.0006340378727726771, 400000000.0]\n",
      "[0.0006340378727726771, 400000000.0]\n",
      "[0.0006340378727726771, 0.0010090792226626055]\n",
      "[0.0006340378727726771, 0.0010090792226626055]\n",
      "[0.0006189882105276598, 0.0010090792226626055]\n",
      "[0.0006189882105276598, 0.0010090792226626055]\n",
      "[0.0006189882105276598, 0.0009912449969561386]\n",
      "[0.0006189882105276598, 0.0009912449969561386]\n",
      "[0.0006189882105276598, 0.0009912449969561386]\n",
      "[0.0006189882105276598, 0.0009912449969561386]\n",
      "[0.0006189882105276598, 0.0009912449969561386]\n",
      "[0.0006189882105276598, 0.0008866436470980688]\n",
      "[0.0006189882105276598, 0.0008866436470980688]\n",
      "[0.0006189882105276598, 0.0008866436470980688]\n"
     ]
    }
   ],
   "source": [
    "arr = [[], []]\n",
    "for i in range(100):\n",
    "    evolution(pop, max_n_relays, 1, 1, 500)\n",
    "    for j in range(2):\n",
    "        arr[j].append([pop.get_fittest()[j].get_cost(), encode(pop.get_fittest()[j].genes, pop_configs[j])])\n",
    "    print([x.get_cost() for x in pop.get_fittest()])"
   ]
  },
  {
   "cell_type": "code",
   "execution_count": null,
   "id": "c1760ce1",
   "metadata": {},
   "outputs": [],
   "source": [
    "Energy_consumption_sensor(arr[1][0][1], pop_configs[1])"
   ]
  },
  {
   "cell_type": "code",
   "execution_count": null,
   "id": "002160c3",
   "metadata": {},
   "outputs": [],
   "source": [
    "len(pop_configs)"
   ]
  }
 ],
 "metadata": {
  "kernelspec": {
   "display_name": "Python 3 (ipykernel)",
   "language": "python",
   "name": "python3"
  },
  "language_info": {
   "codemirror_mode": {
    "name": "ipython",
    "version": 3
   },
   "file_extension": ".py",
   "mimetype": "text/x-python",
   "name": "python",
   "nbconvert_exporter": "python",
   "pygments_lexer": "ipython3",
   "version": "3.7.11"
  }
 },
 "nbformat": 4,
 "nbformat_minor": 5
}
